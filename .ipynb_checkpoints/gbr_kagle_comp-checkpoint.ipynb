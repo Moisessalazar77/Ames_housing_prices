{
 "cells": [
  {
   "cell_type": "code",
   "execution_count": 1,
   "metadata": {},
   "outputs": [
    {
     "name": "stderr",
     "output_type": "stream",
     "text": [
      "C:\\Users\\moisessalazar77\\Anaconda3\\envs\\regression_competition\\lib\\site-packages\\sklearn\\cross_validation.py:41: DeprecationWarning: This module was deprecated in version 0.18 in favor of the model_selection module into which all the refactored classes and functions are moved. Also note that the interface of the new CV iterators are different from that of this module. This module will be removed in 0.20.\n",
      "  \"This module will be removed in 0.20.\", DeprecationWarning)\n",
      "C:\\Users\\moisessalazar77\\Anaconda3\\envs\\regression_competition\\lib\\site-packages\\sklearn\\grid_search.py:42: DeprecationWarning: This module was deprecated in version 0.18 in favor of the model_selection module into which all the refactored classes and functions are moved. This module will be removed in 0.20.\n",
      "  DeprecationWarning)\n"
     ]
    }
   ],
   "source": [
    "import pandas as pd\n",
    "import numpy as np\n",
    "from sklearn.ensemble import GradientBoostingClassifier  #GBM algorithm\n",
    "from sklearn import cross_validation, metrics   #Additional scklearn functions\n",
    "from sklearn.grid_search import GridSearchCV   #Perforing grid search\n",
    "\n",
    "import matplotlib.pylab as plt\n",
    "%matplotlib inline\n",
    "from matplotlib.pylab import rcParams\n",
    "rcParams['figure.figsize'] = 12, 4\n"
   ]
  },
  {
   "cell_type": "code",
   "execution_count": 2,
   "metadata": {},
   "outputs": [],
   "source": [
    "seed=42\n",
    "np.random.seed(seed)\n",
    "import os\n",
    "dir_path='C:\\\\Data Science\\\\kaggle regr competion'\n",
    "csv_file='preprocessedtrain.csv'\n",
    "dataset=pd.read_csv(os.path.join(dir_path,csv_file))"
   ]
  },
  {
   "cell_type": "code",
   "execution_count": 3,
   "metadata": {},
   "outputs": [],
   "source": [
    "predictors=['MasVnrType_Stone',\n",
    " 'ExterQual_Gd',\n",
    " 'Age',\n",
    " 'WoodDeckSF',\n",
    " 'Foundation_PConc',\n",
    " 'EnclosedPorch',\n",
    " 'BsmtQual_Gd',\n",
    " 'BldgType_Twnhs',\n",
    " 'KitchenQual_TA',\n",
    " 'BsmtFinSF2',\n",
    " 'Exterior1st_CemntBd',\n",
    " 'GarageFinish_Unf',\n",
    " 'Exterior1st_VinylSd',\n",
    " 'GarageType_Attchd',\n",
    " 'BsmtFullBath',\n",
    " 'HalfBath',\n",
    " 'FireplaceQu_no_fireplace',\n",
    " 'GrLivArea',\n",
    " 'TotRmsAbvGrd',\n",
    " 'MSSubClass',\n",
    " 'BsmtQual_TA',\n",
    " 'KitchenQual_Gd',\n",
    " 'Neighborhood_NridgHt',\n",
    " 'FullBath',\n",
    " 'BsmtFinSF1',\n",
    " 'Neighborhood_NoRidge',\n",
    " 'AgeGarage',\n",
    " 'BsmtFinType1_Unf',\n",
    " 'Foundation_CBlock',\n",
    " 'GarageArea',\n",
    " 'BsmtUnfSF',\n",
    " 'BsmtExposure_Gd',\n",
    " 'GarageFinish_RFn',\n",
    " 'TotalBsmtSF',\n",
    " 'Exterior1st_BrkFace',\n",
    " 'HeatingQC_TA',\n",
    " 'Condition1_Norm',\n",
    " 'Functional_Typ',\n",
    " 'MSZoning_RL',\n",
    " 'GarageType_Detchd',\n",
    " 'Neighborhood_Crawfor',\n",
    " 'Exterior2nd_CmentBd',\n",
    " 'MSZoning_RM',\n",
    " '1stFlrSF',\n",
    " '2ndFlrSF',\n",
    " 'BldgType_Duplex',\n",
    " 'Exterior2nd_VinylSd',\n",
    " 'MasVnrArea',\n",
    " 'BldgType_TwnhsE',\n",
    " 'Neighborhood_StoneBr',\n",
    " 'Fireplaces',\n",
    " 'MasVnrType_None',\n",
    " 'KitchenQual_Fa',\n",
    " 'ScreenPorch',\n",
    " 'MSZoning_FV',\n",
    " 'AgeRemod',\n",
    " 'GarageType_BuiltIn',\n",
    " 'LotArea',\n",
    " 'OpenPorchSF',\n",
    " 'BsmtFinType1_GLQ',\n",
    " 'OverallQual',\n",
    " 'LotFrontage',\n",
    " 'OverallCond',\n",
    " 'BsmtQual_Fa',\n",
    " 'ExterQual_TA',\n",
    " 'GarageCars']"
   ]
  },
  {
   "cell_type": "code",
   "execution_count": null,
   "metadata": {},
   "outputs": [],
   "source": [
    "def modelfit(alg, dtrain, predictors, performCV=True, printFeatureImportance=True, cv_folds=5,target_name):\n",
    "    #Fit the algorithm on the data\n",
    "    alg.fit(dtrain[predictors], dtrain[target_name])\n",
    "        \n",
    "    #Predict training set:\n",
    "    dtrain_predictions = alg.predict(dtrain[predictors])\n",
    "    dtrain_predprob = alg.predict_proba(dtrain[predictors])[:,1]\n",
    "    \n",
    "    #Perform cross-validation:\n",
    "    if performCV:\n",
    "        cv_score = cross_validation.cross_val_score(alg, dtrain[predictors], dtrain['Disbursed'], cv=cv_folds, scoring='roc_auc')\n",
    "    \n",
    "    #Print model report:\n",
    "    print \"\\nModel Report\"\n",
    "    print \"Accuracy : %.4g\" % metrics.rmse_score(dtrain[target_name].values, dtrain_predictions)\n",
    "    print \"Explained variance (Train): %f\" % metrics.roc_auc_score(dtrain[target_name], dtrain_predprob)\n",
    "    \n",
    "    if performCV:\n",
    "        print \"CV Score : Mean - %.7g | Std - %.7g | Min - %.7g | Max - %.7g\" % (np.mean(cv_score),np.std(cv_score),np.min(cv_score),np.max(cv_score))\n",
    "        \n",
    "    #Print Feature Importance:\n",
    "    if printFeatureImportance:\n",
    "        feat_imp = pd.Series(alg.feature_importances_, predictors).sort_values(ascending=False)\n",
    "        feat_imp.plot(kind='bar', title='Feature Importances')\n",
    "        plt.ylabel('Feature Importance Score')"
   ]
  }
 ],
 "metadata": {
  "kernelspec": {
   "display_name": "Python [conda env:regression_competition]",
   "language": "python",
   "name": "conda-env-regression_competition-py"
  },
  "language_info": {
   "codemirror_mode": {
    "name": "ipython",
    "version": 3
   },
   "file_extension": ".py",
   "mimetype": "text/x-python",
   "name": "python",
   "nbconvert_exporter": "python",
   "pygments_lexer": "ipython3",
   "version": "3.6.0"
  }
 },
 "nbformat": 4,
 "nbformat_minor": 2
}
