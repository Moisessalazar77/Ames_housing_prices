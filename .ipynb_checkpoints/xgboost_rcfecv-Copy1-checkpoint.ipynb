{
 "cells": [
  {
   "cell_type": "code",
   "execution_count": null,
   "metadata": {},
   "outputs": [],
   "source": [
    "import numpy as np\n",
    "import pandas as pd \n",
    "import matplotlib.pyplot as plt\n",
    "import seaborn as sns\n",
    "from xgboost import XGBRegressor"
   ]
  },
  {
   "cell_type": "code",
   "execution_count": null,
   "metadata": {},
   "outputs": [],
   "source": [
    "import os\n",
    "seed=42\n",
    "np.random.seed(seed)\n",
    "import os\n",
    "dir_path='C:\\\\Data Science\\\\kaggle regr competion'\n",
    "file_name='preprocessedtrain.csv'\n",
    "dataset=pd.read_csv(os.path.join(dir_path,file_name))"
   ]
  },
  {
   "cell_type": "code",
   "execution_count": null,
   "metadata": {},
   "outputs": [],
   "source": [
    "dataset.info()"
   ]
  },
  {
   "cell_type": "code",
   "execution_count": null,
   "metadata": {},
   "outputs": [],
   "source": [
    "dataset.head(10)"
   ]
  },
  {
   "cell_type": "code",
   "execution_count": null,
   "metadata": {},
   "outputs": [],
   "source": [
    "new_feat=['GarageArea', 'OpenPorchSF',\n",
    " 'WoodDeckSF', 'EnclosedPorch',\n",
    " 'TotalBsmtSF', '2ndFlrSF',\n",
    " 'BsmtFinSF1', 'GrLivArea', \n",
    " 'MasVnrArea', '1stFlrSF', \n",
    "'LotFrontage','MSZoning_RM',\n",
    " 'Neighborhood_NoRidge',\n",
    " 'Neighborhood_NridgHt',\n",
    " 'GarageFinish_Unf',\n",
    " 'KitchenQual_Gd',\n",
    " 'Foundation_PConc',\n",
    " 'BsmtQual_Gd',\n",
    " 'BsmtQual_TA',\n",
    " 'FireplaceQu_no_fireplace',\n",
    " 'ExterQual_TA','SalePrice']"
   ]
  },
  {
   "cell_type": "code",
   "execution_count": null,
   "metadata": {},
   "outputs": [],
   "source": [
    "col=list(dataset.columns)\n",
    "for f in new_feat:\n",
    "    col.remove(f)"
   ]
  },
  {
   "cell_type": "code",
   "execution_count": null,
   "metadata": {},
   "outputs": [],
   "source": [
    "col"
   ]
  },
  {
   "cell_type": "code",
   "execution_count": null,
   "metadata": {},
   "outputs": [],
   "source": [
    "X=dataset[col]\n",
    "y=dataset['SalePrice']"
   ]
  },
  {
   "cell_type": "code",
   "execution_count": null,
   "metadata": {},
   "outputs": [],
   "source": [
    "from sklearn.model_selection import train_test_split\n",
    "X_train,X_test,y_train,y_test=train_test_split(X,y,test_size=0.2)"
   ]
  },
  {
   "cell_type": "code",
   "execution_count": null,
   "metadata": {},
   "outputs": [],
   "source": [
    "from sklearn.feature_selection import RFECV\n",
    "from sklearn.preprocessing import StandardScaler, RobustScaler\n",
    "from sklearn.metrics import make_scorer "
   ]
  },
  {
   "cell_type": "code",
   "execution_count": null,
   "metadata": {},
   "outputs": [],
   "source": [
    "xgb = XGBRegressor()\n",
    "xgb.fit(X_train, y_train)"
   ]
  },
  {
   "cell_type": "code",
   "execution_count": null,
   "metadata": {},
   "outputs": [],
   "source": [
    "xgb = XGBRegressor()\n",
    "xgb.fit(X_train, y_train)\n",
    "imp = pd.DataFrame(xgb.feature_importances_ ,columns = ['Importance'],index = X_train.columns)\n",
    "imp = imp.sort_values(['Importance'], ascending = False)\n",
    "\n",
    "print(imp)"
   ]
  },
  {
   "cell_type": "code",
   "execution_count": null,
   "metadata": {},
   "outputs": [],
   "source": [
    "#Define a function to calculate RMSE\n",
    "def rmse(y_true, y_pred):\n",
    "    return np.sqrt(np.mean((y_true-y_pred)**2))\n",
    "\n",
    "# Define a function to calculate negative RMSE (as a score)\n",
    "def nrmse(y_true, y_pred):\n",
    "    return -1.0*rmse(y_true, y_pred)\n",
    "\n",
    "neg_rmse = make_scorer(nrmse)\n",
    "\n",
    "estimator = XGBRegressor()\n",
    "selector = RFECV(estimator, cv = 3, n_jobs = -1, scoring = neg_rmse)\n",
    "selector = selector.fit(X_train, y_train)\n",
    "\n",
    "print(\"The number of selected features is: {}\".format(selector.n_features_))\n",
    "\n",
    "features_kept = X_train.columns.values[selector.support_] \n",
    "\n",
    "X_train = selector.transform(X_train)  \n",
    "X_test = selector.transform(X_test)\n",
    "\n",
    "# transform it to a numpy array so later we can feed it to a neural network\n",
    "y_train = y_train.values "
   ]
  },
  {
   "cell_type": "code",
   "execution_count": null,
   "metadata": {},
   "outputs": [],
   "source": []
  }
 ],
 "metadata": {
  "kernelspec": {
   "display_name": "Python [conda env:regression_competition]",
   "language": "python",
   "name": "conda-env-regression_competition-py"
  },
  "language_info": {
   "codemirror_mode": {
    "name": "ipython",
    "version": 3
   },
   "file_extension": ".py",
   "mimetype": "text/x-python",
   "name": "python",
   "nbconvert_exporter": "python",
   "pygments_lexer": "ipython3",
   "version": "3.6.0"
  }
 },
 "nbformat": 4,
 "nbformat_minor": 2
}
