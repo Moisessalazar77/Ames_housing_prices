{
 "cells": [
  {
   "cell_type": "code",
   "execution_count": 1,
   "metadata": {},
   "outputs": [],
   "source": [
    "import numpy as np\n",
    "import pandas as pd\n",
    "import os\n",
    "seed=42\n",
    "np.random.seed(seed)\n",
    "import os\n",
    "dir_path='C:\\\\Data Science\\\\kaggle regr competion'\n",
    "file_name='preprocessedtrain.csv'\n",
    "dataset=pd.read_csv(os.path.join(dir_path,file_name))"
   ]
  },
  {
   "cell_type": "code",
   "execution_count": 2,
   "metadata": {},
   "outputs": [],
   "source": [
    "predictors=['MasVnrType_Stone',\n",
    " 'ExterQual_Gd',\n",
    " 'Age',\n",
    " 'WoodDeckSF',\n",
    " 'Foundation_PConc',\n",
    " 'EnclosedPorch',\n",
    " 'BsmtQual_Gd',\n",
    " 'BldgType_Twnhs',\n",
    " 'KitchenQual_TA',\n",
    " 'BsmtFinSF2',\n",
    " 'Exterior1st_CemntBd',\n",
    " 'GarageFinish_Unf',\n",
    " 'Exterior1st_VinylSd',\n",
    " 'GarageType_Attchd',\n",
    " 'BsmtFullBath',\n",
    " 'HalfBath',\n",
    " 'FireplaceQu_no_fireplace',\n",
    " 'GrLivArea',\n",
    " 'TotRmsAbvGrd',\n",
    " 'MSSubClass',\n",
    " 'BsmtQual_TA',\n",
    " 'KitchenQual_Gd',\n",
    " 'Neighborhood_NridgHt',\n",
    " 'FullBath',\n",
    " 'BsmtFinSF1',\n",
    " 'Neighborhood_NoRidge',\n",
    " 'AgeGarage',\n",
    " 'BsmtFinType1_Unf',\n",
    " 'Foundation_CBlock',\n",
    " 'GarageArea',\n",
    " 'BsmtUnfSF',\n",
    " 'BsmtExposure_Gd',\n",
    " 'GarageFinish_RFn',\n",
    " 'TotalBsmtSF',\n",
    " 'Exterior1st_BrkFace',\n",
    " 'HeatingQC_TA',\n",
    " 'Condition1_Norm',\n",
    " 'Functional_Typ',\n",
    " 'MSZoning_RL',\n",
    " 'GarageType_Detchd',\n",
    " 'Neighborhood_Crawfor',\n",
    " 'Exterior2nd_CmentBd',\n",
    " 'MSZoning_RM',\n",
    " '1stFlrSF',\n",
    " '2ndFlrSF',\n",
    " 'BldgType_Duplex',\n",
    " 'Exterior2nd_VinylSd',\n",
    " 'MasVnrArea',\n",
    " 'BldgType_TwnhsE',\n",
    " 'Neighborhood_StoneBr',\n",
    " 'Fireplaces',\n",
    " 'MasVnrType_None',\n",
    " 'KitchenQual_Fa',\n",
    " 'ScreenPorch',\n",
    " 'MSZoning_FV',\n",
    " 'AgeRemod',\n",
    " 'GarageType_BuiltIn',\n",
    " 'LotArea',\n",
    " 'OpenPorchSF',\n",
    " 'BsmtFinType1_GLQ',\n",
    " 'OverallQual',\n",
    " 'LotFrontage',\n",
    " 'OverallCond',\n",
    " 'BsmtQual_Fa',\n",
    " 'ExterQual_TA',\n",
    " 'GarageCars']"
   ]
  },
  {
   "cell_type": "code",
   "execution_count": 3,
   "metadata": {},
   "outputs": [],
   "source": [
    "X=dataset[predictors]\n",
    "y=dataset['SalePrice']"
   ]
  },
  {
   "cell_type": "code",
   "execution_count": 4,
   "metadata": {},
   "outputs": [],
   "source": [
    "toxic_features=['KitchenQual_TA','KitchenQual_Gd','ExterQual_TA',\n",
    "'Foundation_PConc','BsmtQual_TA','AgeGarage',\n",
    "'Exterior2nd_CmentBd','Exterior2nd_VinylSd',\n",
    "'GarageType_Detchd','2ndFlrSF','TotRmsAbvGrd',\n",
    "'Fireplaces','GarageCars','TotalBsmtSF','MasVnrType_None',\n",
    "'KitchenQual_TA','BsmtFullBath','BsmtFinType1_Unf','MSZoning_RL']"
   ]
  },
  {
   "cell_type": "code",
   "execution_count": 5,
   "metadata": {},
   "outputs": [
    {
     "name": "stderr",
     "output_type": "stream",
     "text": [
      "C:\\Users\\moisessalazar77\\Anaconda3\\envs\\regression_competition\\lib\\site-packages\\ipykernel\\__main__.py:1: SettingWithCopyWarning: \n",
      "A value is trying to be set on a copy of a slice from a DataFrame\n",
      "\n",
      "See the caveats in the documentation: http://pandas.pydata.org/pandas-docs/stable/indexing.html#indexing-view-versus-copy\n",
      "  if __name__ == '__main__':\n"
     ]
    }
   ],
   "source": [
    "X.drop(columns=toxic_features,axis=1,inplace=True)"
   ]
  },
  {
   "cell_type": "code",
   "execution_count": 6,
   "metadata": {},
   "outputs": [],
   "source": [
    "from sklearn.model_selection import cross_val_score, KFold\n",
    "from sklearn.tree import DecisionTreeClassifier\n",
    "from sklearn.ensemble import RandomForestRegressor, ExtraTreesRegressor, BaggingRegressor\n",
    "\n",
    "cv = KFold(n_splits=3, shuffle=True, random_state=seed)"
   ]
  },
  {
   "cell_type": "code",
   "execution_count": 7,
   "metadata": {},
   "outputs": [
    {
     "name": "stdout",
     "output_type": "stream",
     "text": [
      "Bagging Score:\t0.86 ± 0.011\n"
     ]
    }
   ],
   "source": [
    "dt_bag = BaggingRegressor(random_state=seed)\n",
    "s = cross_val_score(dt_bag, X, y, cv=cv, n_jobs=-1,scoring='explained_variance')\n",
    "print(\"{} Score:\\t{:0.3} ± {:0.3}\".format(\"Bagging\", s.mean().round(3), s.std().round(3)))"
   ]
  },
  {
   "cell_type": "code",
   "execution_count": null,
   "metadata": {},
   "outputs": [],
   "source": [
    "dt_rf = RandomForestRegressor(random_state=seed)\n",
    "s = cross_val_score(dt_rf, X, y, cv=cv, n_jobs=-1,scoring='explained_variance')\n",
    "print(\"{} Score:\\t{:0.3} ± {:0.3}\".format(\"Random Forest\", s.mean().round(3), s.std().round(3)))"
   ]
  },
  {
   "cell_type": "code",
   "execution_count": null,
   "metadata": {},
   "outputs": [],
   "source": [
    "dt_extra = ExtraTreesRegressor()\n",
    "s = cross_val_score(dt_extra, X, y, cv=cv, n_jobs=-1,scoring='explained_variance')\n",
    "print(\"{} Score:\\t{:0.3} ± {:0.3}\".format(\"Extra Trees\", s.mean().round(3), s.std().round(3)))"
   ]
  },
  {
   "cell_type": "code",
   "execution_count": null,
   "metadata": {},
   "outputs": [],
   "source": []
  }
 ],
 "metadata": {
  "kernelspec": {
   "display_name": "Python [conda env:regression_competition]",
   "language": "python",
   "name": "conda-env-regression_competition-py"
  },
  "language_info": {
   "codemirror_mode": {
    "name": "ipython",
    "version": 3
   },
   "file_extension": ".py",
   "mimetype": "text/x-python",
   "name": "python",
   "nbconvert_exporter": "python",
   "pygments_lexer": "ipython3",
   "version": "3.6.0"
  }
 },
 "nbformat": 4,
 "nbformat_minor": 2
}
