{
 "cells": [
  {
   "cell_type": "code",
   "execution_count": 1,
   "metadata": {},
   "outputs": [],
   "source": [
    "import numpy as np\n",
    "import pandas as pd \n",
    "import matplotlib.pyplot as plt\n",
    "import seaborn as sns"
   ]
  },
  {
   "cell_type": "code",
   "execution_count": 2,
   "metadata": {},
   "outputs": [],
   "source": [
    "import os\n",
    "seed=42\n",
    "np.random.seed(seed)\n",
    "import os\n",
    "dir_path='C:\\\\Data Science\\\\kaggle regr competion'\n",
    "file_name='preprocessedtrain.csv'\n",
    "dataset=pd.read_csv(os.path.join(dir_path,file_name))"
   ]
  },
  {
   "cell_type": "code",
   "execution_count": 3,
   "metadata": {},
   "outputs": [],
   "source": [
    "opt_predictors=['MasVnrType_Stone',\n",
    " 'ExterQual_Gd',\n",
    " 'Age',\n",
    " 'WoodDeckSF',\n",
    " 'Foundation_PConc',\n",
    " 'EnclosedPorch',\n",
    " 'BsmtQual_Gd',\n",
    " 'BldgType_Twnhs',\n",
    " 'KitchenQual_TA',\n",
    " 'BsmtFinSF2',\n",
    " 'Exterior1st_CemntBd',\n",
    " 'GarageFinish_Unf',\n",
    " 'Exterior1st_VinylSd',\n",
    " 'GarageType_Attchd',\n",
    " 'BsmtFullBath',\n",
    " 'HalfBath',\n",
    " 'FireplaceQu_no_fireplace',\n",
    " 'GrLivArea',\n",
    " 'TotRmsAbvGrd',\n",
    " 'MSSubClass',\n",
    " 'BsmtQual_TA',\n",
    " 'KitchenQual_Gd',\n",
    " 'Neighborhood_NridgHt',\n",
    " 'FullBath',\n",
    " 'BsmtFinSF1',\n",
    " 'Neighborhood_NoRidge',\n",
    " 'AgeGarage',\n",
    " 'BsmtFinType1_Unf',\n",
    " 'Foundation_CBlock',\n",
    " 'GarageArea',\n",
    " 'BsmtUnfSF',\n",
    " 'BsmtExposure_Gd',\n",
    " 'GarageFinish_RFn',\n",
    " 'TotalBsmtSF',\n",
    " 'Exterior1st_BrkFace',\n",
    " 'HeatingQC_TA',\n",
    " 'Condition1_Norm',\n",
    " 'Functional_Typ',\n",
    " 'MSZoning_RL',\n",
    " 'GarageType_Detchd',\n",
    " 'Neighborhood_Crawfor',\n",
    " 'Exterior2nd_CmentBd',\n",
    " 'MSZoning_RM',\n",
    " '1stFlrSF',\n",
    " '2ndFlrSF',\n",
    " 'BldgType_Duplex',\n",
    " 'Exterior2nd_VinylSd',\n",
    " 'MasVnrArea',\n",
    " 'BldgType_TwnhsE',\n",
    " 'Neighborhood_StoneBr',\n",
    " 'Fireplaces',\n",
    " 'MasVnrType_None',\n",
    " 'KitchenQual_Fa',\n",
    " 'ScreenPorch',\n",
    " 'MSZoning_FV',\n",
    " 'AgeRemod',\n",
    " 'GarageType_BuiltIn',\n",
    " 'LotArea',\n",
    " 'OpenPorchSF',\n",
    " 'BsmtFinType1_GLQ',\n",
    " 'OverallQual',\n",
    " 'LotFrontage',\n",
    " 'OverallCond',\n",
    " 'BsmtQual_Fa',\n",
    " 'ExterQual_TA',\n",
    " 'GarageCars']"
   ]
  },
  {
   "cell_type": "code",
   "execution_count": 4,
   "metadata": {},
   "outputs": [],
   "source": [
    "X=dataset[opt_predictors]\n",
    "y=dataset['SalePrice']"
   ]
  },
  {
   "cell_type": "code",
   "execution_count": 5,
   "metadata": {},
   "outputs": [],
   "source": [
    "toxic_features=['KitchenQual_TA','KitchenQual_Gd','ExterQual_TA',\n",
    "'Foundation_PConc','BsmtQual_TA','AgeGarage',\n",
    "'Exterior2nd_CmentBd','Exterior2nd_VinylSd',\n",
    "'GarageType_Detchd','2ndFlrSF','TotRmsAbvGrd',\n",
    "'Fireplaces','GarageCars','TotalBsmtSF','MasVnrType_None',\n",
    "'KitchenQual_TA','BsmtFullBath','BsmtFinType1_Unf','MSZoning_RL']"
   ]
  },
  {
   "cell_type": "code",
   "execution_count": 6,
   "metadata": {
    "scrolled": true
   },
   "outputs": [
    {
     "name": "stderr",
     "output_type": "stream",
     "text": [
      "C:\\Users\\moisessalazar77\\Anaconda3\\envs\\regression_competition\\lib\\site-packages\\ipykernel\\__main__.py:1: SettingWithCopyWarning: \n",
      "A value is trying to be set on a copy of a slice from a DataFrame\n",
      "\n",
      "See the caveats in the documentation: http://pandas.pydata.org/pandas-docs/stable/indexing.html#indexing-view-versus-copy\n",
      "  if __name__ == '__main__':\n"
     ]
    }
   ],
   "source": [
    "X.drop(columns=toxic_features,axis=1,inplace=True)"
   ]
  },
  {
   "cell_type": "code",
   "execution_count": 7,
   "metadata": {},
   "outputs": [],
   "source": [
    "from sklearn.model_selection import train_test_split\n",
    "options={'test_size':0.2,\n",
    "         'shuffle':True,\n",
    "         'stratify':None}    \n",
    "\n",
    "X_train,X_test,y_train,y_test=train_test_split(X,y,**options)"
   ]
  },
  {
   "cell_type": "code",
   "execution_count": 8,
   "metadata": {},
   "outputs": [],
   "source": [
    "from sklearn.preprocessing import StandardScaler\n",
    "ss=StandardScaler()\n",
    "X_train_scaled=ss.fit_transform(X_train)\n",
    "X_test_scaled=ss.fit(X_test)"
   ]
  },
  {
   "cell_type": "code",
   "execution_count": 19,
   "metadata": {},
   "outputs": [],
   "source": [
    "from sklearn.linear_model import Lasso\n",
    "from sklearn.model_selection import KFold\n",
    "\n",
    "kf=KFold(n_splits=3, shuffle=True, random_state=seed)\n",
    "\n",
    "\n",
    "penal=np.linspace(0.0001,0.997,num=200,endpoint=True)\n",
    "bool_lst=[True,False]\n",
    "quasi_bool=['auto',True,False]\n",
    "select=[\"random\", \"cyclic\"]\n",
    "alephs=np.logspace(-6,0,num=10,endpoint=True,base=10)\n",
    "num_alphas=10\n",
    "path=np.logspace(-6,10,num_alphas,endpoint=True,base=10.0)\n",
    "\n",
    "\n",
    "params={'precompute':quasi_bool[1],\n",
    "        'max_iter':100,\n",
    "        'n_alphas':num_alphas,\n",
    "        'alphas':alephs,\n",
    "        'tol':0.0001,\n",
    "        'cv':kf,\n",
    "        'verbose':2,\n",
    "        'n_jobs':-1,\n",
    "        'positive':bool_lst,\n",
    "        'random_state':seed,\n",
    "        'selection':select[1],\n",
    "        'fit_intercept':True,\n",
    "        'eps':1e-6,\n",
    "        'normalize':True,\n",
    "        'l1_ratio':penal}"
   ]
  },
  {
   "cell_type": "code",
   "execution_count": 20,
   "metadata": {},
   "outputs": [],
   "source": [
    "regr=Lasso()"
   ]
  },
  {
   "cell_type": "code",
   "execution_count": null,
   "metadata": {},
   "outputs": [],
   "source": []
  },
  {
   "cell_type": "code",
   "execution_count": 21,
   "metadata": {},
   "outputs": [
    {
     "data": {
      "text/plain": [
       "Lasso(alpha=1.0, copy_X=True, fit_intercept=True, max_iter=1000,\n",
       "   normalize=False, positive=False, precompute=False, random_state=None,\n",
       "   selection='cyclic', tol=0.0001, warm_start=False)"
      ]
     },
     "execution_count": 21,
     "metadata": {},
     "output_type": "execute_result"
    }
   ],
   "source": [
    "regr.fit(X_train_scaled,y_train)"
   ]
  },
  {
   "cell_type": "code",
   "execution_count": 22,
   "metadata": {},
   "outputs": [
    {
     "data": {
      "text/plain": [
       "array([ 2.51604684e+03,  1.50147199e+02, -1.39604870e+04,  2.44354450e+03,\n",
       "        8.48179124e+02, -4.41440305e+03, -3.01140498e+03,  3.02845325e+03,\n",
       "        3.53819433e+03, -2.42955554e+03,  1.25503221e+03, -9.43069756e+02,\n",
       "        1.65708277e+03, -1.76792509e+03,  2.04072383e+04, -2.80392433e+03,\n",
       "        6.94436562e+03,  4.95011284e+02,  1.26592816e+04,  3.14021845e+03,\n",
       "       -3.13921929e+03,  4.79564559e+03,  6.04256910e+03,  4.23246603e+03,\n",
       "       -3.02573864e+03,  3.20804120e+03, -1.91853208e+03,  2.73025372e+03,\n",
       "        2.36075123e+03,  4.39792717e+03, -1.46133914e+03,  7.33153202e+02,\n",
       "       -3.13041850e+03,  1.99362288e+03, -2.30329053e+03,  4.23954488e+03,\n",
       "        1.49165620e+03,  1.83337987e+03,  2.55887495e+03, -2.91269144e+03,\n",
       "        2.63715569e+00,  4.52911476e+03,  1.33059559e+03,  2.17394786e+03,\n",
       "        1.20347627e+04,  7.03797536e+02,  5.90743874e+03,  7.31395482e+02])"
      ]
     },
     "execution_count": 22,
     "metadata": {},
     "output_type": "execute_result"
    }
   ],
   "source": [
    "regr.coef_"
   ]
  },
  {
   "cell_type": "code",
   "execution_count": 24,
   "metadata": {},
   "outputs": [
    {
     "name": "stdout",
     "output_type": "stream",
     "text": [
      "\n",
      "#### E performance ####\n",
      "Mean squared error = 7773303682650950.0\n",
      "Explained variance score = -125479.74\n"
     ]
    }
   ],
   "source": [
    "from sklearn.metrics import mean_squared_error, explained_variance_score\n",
    "y_pred_ela = regr.predict(X_test)\n",
    "mse = mean_squared_error(y_test, y_pred_ela)\n",
    "evs = explained_variance_score(y_test, y_pred_ela) \n",
    "print(\"\\n#### E performance ####\")\n",
    "print(\"Mean squared error =\", round(mse, 2))\n",
    "print(\"Explained variance score =\", round(evs, 2))"
   ]
  },
  {
   "cell_type": "code",
   "execution_count": null,
   "metadata": {},
   "outputs": [],
   "source": []
  },
  {
   "cell_type": "code",
   "execution_count": null,
   "metadata": {},
   "outputs": [],
   "source": []
  }
 ],
 "metadata": {
  "kernelspec": {
   "display_name": "Python [conda env:regression_competition]",
   "language": "python",
   "name": "conda-env-regression_competition-py"
  },
  "language_info": {
   "codemirror_mode": {
    "name": "ipython",
    "version": 3
   },
   "file_extension": ".py",
   "mimetype": "text/x-python",
   "name": "python",
   "nbconvert_exporter": "python",
   "pygments_lexer": "ipython3",
   "version": "3.6.0"
  }
 },
 "nbformat": 4,
 "nbformat_minor": 2
}
