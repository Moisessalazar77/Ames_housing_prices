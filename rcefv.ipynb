{
 "cells": [
  {
   "cell_type": "code",
   "execution_count": 47,
   "metadata": {},
   "outputs": [],
   "source": [
    "import numpy as np\n",
    "import pandas as pd \n",
    "from sklearn.model_selection import KFold\n",
    "from sklearn.feature_selection import RFECV\n"
   ]
  },
  {
   "cell_type": "code",
   "execution_count": 48,
   "metadata": {},
   "outputs": [],
   "source": [
    "import os\n",
    "dir_path='C:\\\\Data Science\\\\kaggle regr competion'\n",
    "csv_file='preprocessedtrain.csv'\n",
    "dataset=pd.read_csv(os.path.join(dir_path,csv_file))"
   ]
  },
  {
   "cell_type": "code",
   "execution_count": 49,
   "metadata": {},
   "outputs": [],
   "source": [
    "X=dataset.loc[:, dataset.columns != 'SalePrice']\n",
    "y=dataset['SalePrice']"
   ]
  },
  {
   "cell_type": "code",
   "execution_count": 50,
   "metadata": {},
   "outputs": [
    {
     "name": "stdout",
     "output_type": "stream",
     "text": [
      "The number of selected features is: 207\n"
     ]
    }
   ],
   "source": [
    "from sklearn.linear_model import Lasso\n",
    "seed=42\n",
    "np.random.seed(seed)\n",
    "from sklearn.preprocessing import StandardScaler\n",
    "kf=KFold(n_splits=3,shuffle=True,random_state=seed)\n",
    "estimator = Lasso(fit_intercept=True, \n",
    "                  alpha=0.008, \n",
    "                  random_state=seed, \n",
    "                  normalize=True,\n",
    "                  max_iter=5000,\n",
    "                  tol=0.003)\n",
    "                  \n",
    "selector = RFECV(estimator, cv = kf, n_jobs = -1, scoring='explained_variance')\n",
    "selector = selector.fit(X,y)\n",
    "\n",
    "print(\"The number of selected features is: {}\".format(selector.n_features_))\n",
    "\n",
    "kept_feat0=list(X.iloc[:,selector.support_].columns)\n"
   ]
  },
  {
   "cell_type": "code",
   "execution_count": 53,
   "metadata": {},
   "outputs": [
    {
     "data": {
      "text/plain": [
       "['MSSubClass',\n",
       " 'LotArea',\n",
       " 'OverallQual',\n",
       " 'OverallCond',\n",
       " 'BsmtUnfSF',\n",
       " 'TotalBsmtSF',\n",
       " '1stFlrSF',\n",
       " '2ndFlrSF',\n",
       " 'GrLivArea',\n",
       " 'Fireplaces',\n",
       " 'GarageArea',\n",
       " 'Age',\n",
       " 'AgeRemod',\n",
       " 'MSZoning_FV',\n",
       " 'MSZoning_RL',\n",
       " 'Neighborhood_Crawfor',\n",
       " 'Neighborhood_NoRidge',\n",
       " 'Neighborhood_NridgHt',\n",
       " 'Neighborhood_StoneBr',\n",
       " 'Condition1_Norm',\n",
       " 'BldgType_Duplex',\n",
       " 'BldgType_Twnhs',\n",
       " 'BldgType_TwnhsE',\n",
       " 'Exterior1st_BrkFace',\n",
       " 'Exterior1st_CemntBd',\n",
       " 'Exterior2nd_CmentBd',\n",
       " 'ExterQual_Gd',\n",
       " 'ExterQual_TA',\n",
       " 'BsmtQual_Fa',\n",
       " 'BsmtQual_Gd',\n",
       " 'BsmtQual_TA',\n",
       " 'BsmtExposure_Gd',\n",
       " 'BsmtFinType1_GLQ',\n",
       " 'KitchenQual_Fa',\n",
       " 'KitchenQual_Gd',\n",
       " 'KitchenQual_TA',\n",
       " 'Functional_Typ',\n",
       " 'GarageType_Attchd',\n",
       " 'GarageType_BuiltIn',\n",
       " 'GarageType_Detchd']"
      ]
     },
     "execution_count": 53,
     "metadata": {},
     "output_type": "execute_result"
    }
   ],
   "source": [
    "kept_feat0"
   ]
  },
  {
   "cell_type": "code",
   "execution_count": null,
   "metadata": {},
   "outputs": [],
   "source": []
  }
 ],
 "metadata": {
  "kernelspec": {
   "display_name": "Python [conda env:regression_competition]",
   "language": "python",
   "name": "conda-env-regression_competition-py"
  },
  "language_info": {
   "codemirror_mode": {
    "name": "ipython",
    "version": 3
   },
   "file_extension": ".py",
   "mimetype": "text/x-python",
   "name": "python",
   "nbconvert_exporter": "python",
   "pygments_lexer": "ipython3",
   "version": "3.6.0"
  }
 },
 "nbformat": 4,
 "nbformat_minor": 2
}
