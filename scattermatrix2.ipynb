{
 "cells": [
  {
   "cell_type": "code",
   "execution_count": null,
   "metadata": {},
   "outputs": [],
   "source": [
    "l2=a[2]\n",
    "grr = pd.plotting.scatter_matrix(dataset[l2],\n",
    "      c=dataset_num.SalePrice, figsize=(20, 20), marker='o',\n",
    "                                     hist_kwds={'bins': 20}, s=60, alpha=.7)"
   ]
  }
 ],
 "metadata": {
  "kernelspec": {
   "display_name": "Python [conda env:regression_competition]",
   "language": "python",
   "name": "conda-env-regression_competition-py"
  },
  "language_info": {
   "codemirror_mode": {
    "name": "ipython",
    "version": 3
   },
   "file_extension": ".py",
   "mimetype": "text/x-python",
   "name": "python",
   "nbconvert_exporter": "python",
   "pygments_lexer": "ipython3",
   "version": "3.6.0"
  }
 },
 "nbformat": 4,
 "nbformat_minor": 2
}
