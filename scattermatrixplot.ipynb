{
 "cells": [
  {
   "cell_type": "code",
   "execution_count": null,
   "metadata": {},
   "outputs": [],
   "source": [
    "from pandas.plotting import scatter_matrix \n",
    "from IPython.display import display\n",
    "import mglearn\n",
    "grr = scatter_matrix(X[l0],c = y,figsize = (10,10),marker = 'o',\n",
    "                        hist_kwds={'bins':20},s=60,alpha=.8,cmap = mglearn.cm3)\n",
    "plt.show()"
   ]
  }
 ],
 "metadata": {
  "kernelspec": {
   "display_name": "Python [conda env:regression_competition]",
   "language": "python",
   "name": "conda-env-regression_competition-py"
  },
  "language_info": {
   "codemirror_mode": {
    "name": "ipython",
    "version": 3
   },
   "file_extension": ".py",
   "mimetype": "text/x-python",
   "name": "python",
   "nbconvert_exporter": "python",
   "pygments_lexer": "ipython3",
   "version": "3.6.0"
  }
 },
 "nbformat": 4,
 "nbformat_minor": 2
}
