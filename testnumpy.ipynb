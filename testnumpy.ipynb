{
 "cells": [
  {
   "cell_type": "code",
   "execution_count": 6,
   "metadata": {},
   "outputs": [
    {
     "data": {
      "text/plain": [
       "array([1.00000000e-03, 1.62377674e-03, 2.63665090e-03, 4.28133240e-03,\n",
       "       6.95192796e-03, 1.12883789e-02, 1.83298071e-02, 2.97635144e-02,\n",
       "       4.83293024e-02, 7.84759970e-02, 1.27427499e-01, 2.06913808e-01,\n",
       "       3.35981829e-01, 5.45559478e-01, 8.85866790e-01, 1.43844989e+00,\n",
       "       2.33572147e+00, 3.79269019e+00, 6.15848211e+00, 1.00000000e+01])"
      ]
     },
     "execution_count": 6,
     "metadata": {},
     "output_type": "execute_result"
    }
   ],
   "source": [
    "import numpy as np\n",
    "np.logspace(-3.0, 1.0, num=20,endpoint=True,base=10.0)"
   ]
  },
  {
   "cell_type": "code",
   "execution_count": null,
   "metadata": {},
   "outputs": [],
   "source": []
  }
 ],
 "metadata": {
  "kernelspec": {
   "display_name": "Python [conda env:regression_competition]",
   "language": "python",
   "name": "conda-env-regression_competition-py"
  },
  "language_info": {
   "codemirror_mode": {
    "name": "ipython",
    "version": 3
   },
   "file_extension": ".py",
   "mimetype": "text/x-python",
   "name": "python",
   "nbconvert_exporter": "python",
   "pygments_lexer": "ipython3",
   "version": "3.6.0"
  }
 },
 "nbformat": 4,
 "nbformat_minor": 2
}
